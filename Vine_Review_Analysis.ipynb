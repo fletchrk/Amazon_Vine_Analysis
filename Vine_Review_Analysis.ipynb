{
  "nbformat": 4,
  "nbformat_minor": 0,
  "metadata": {
    "colab": {
      "name": "Vine_Review_Analysis.ipynb",
      "provenance": [],
      "collapsed_sections": [],
      "authorship_tag": "ABX9TyM5lggycucQA3PC39DbSCDZ",
      "include_colab_link": true
    },
    "kernelspec": {
      "name": "python3",
      "display_name": "Python 3"
    },
    "language_info": {
      "name": "python"
    }
  },
  "cells": [
    {
      "cell_type": "markdown",
      "metadata": {
        "id": "view-in-github",
        "colab_type": "text"
      },
      "source": [
        "<a href=\"https://colab.research.google.com/github/fletchrk/Amazon_Vine_Analysis/blob/main/Vine_Review_Analysis.ipynb\" target=\"_parent\"><img src=\"https://colab.research.google.com/assets/colab-badge.svg\" alt=\"Open In Colab\"/></a>"
      ]
    },
    {
      "cell_type": "code",
      "metadata": {
        "colab": {
          "base_uri": "https://localhost:8080/"
        },
        "id": "oX1PwvLdZjnR",
        "outputId": "a89607d4-54a3-4b35-f18f-b33a1497031a"
      },
      "source": [
        "import os\n",
        "# Find the latest version of spark 3.0  from http://www-us.apache.org/dist/spark/ and enter as the spark version\n",
        "# For example:\n",
        "# spark_version = 'spark-3.0.2'\n",
        "spark_version = 'spark-3.0.2'\n",
        "os.environ['SPARK_VERSION']=spark_version\n",
        "\n",
        "# Install Spark and Java\n",
        "!apt-get update\n",
        "!apt-get install openjdk-11-jdk-headless -qq > /dev/null\n",
        "!wget -q http://www-us.apache.org/dist/spark/$SPARK_VERSION/$SPARK_VERSION-bin-hadoop2.7.tgz\n",
        "!tar xf $SPARK_VERSION-bin-hadoop2.7.tgz\n",
        "!pip install -q findspark\n",
        "\n",
        "# Set Environment Variables\n",
        "import os\n",
        "os.environ[\"JAVA_HOME\"] = \"/usr/lib/jvm/java-11-openjdk-amd64\"\n",
        "os.environ[\"SPARK_HOME\"] = f\"/content/{spark_version}-bin-hadoop2.7\"\n",
        "\n",
        "# Start a SparkSession\n",
        "import findspark\n",
        "findspark.init()"
      ],
      "execution_count": null,
      "outputs": [
        {
          "output_type": "stream",
          "text": [
            "Get:1 https://cloud.r-project.org/bin/linux/ubuntu bionic-cran40/ InRelease [3,626 B]\n",
            "Ign:2 https://developer.download.nvidia.com/compute/cuda/repos/ubuntu1804/x86_64  InRelease\n",
            "Get:3 https://cloud.r-project.org/bin/linux/ubuntu bionic-cran40/ Packages [60.9 kB]\n",
            "Get:4 http://security.ubuntu.com/ubuntu bionic-security InRelease [88.7 kB]\n",
            "Ign:5 https://developer.download.nvidia.com/compute/machine-learning/repos/ubuntu1804/x86_64  InRelease\n",
            "Get:6 https://developer.download.nvidia.com/compute/cuda/repos/ubuntu1804/x86_64  Release [697 B]\n",
            "Hit:7 https://developer.download.nvidia.com/compute/machine-learning/repos/ubuntu1804/x86_64  Release\n",
            "Get:8 https://developer.download.nvidia.com/compute/cuda/repos/ubuntu1804/x86_64  Release.gpg [836 B]\n",
            "Hit:9 http://archive.ubuntu.com/ubuntu bionic InRelease\n",
            "Get:10 http://ppa.launchpad.net/c2d4u.team/c2d4u4.0+/ubuntu bionic InRelease [15.9 kB]\n",
            "Get:12 http://archive.ubuntu.com/ubuntu bionic-updates InRelease [88.7 kB]\n",
            "Ign:13 https://developer.download.nvidia.com/compute/cuda/repos/ubuntu1804/x86_64  Packages\n",
            "Get:13 https://developer.download.nvidia.com/compute/cuda/repos/ubuntu1804/x86_64  Packages [796 kB]\n",
            "Hit:14 http://ppa.launchpad.net/cran/libgit2/ubuntu bionic InRelease\n",
            "Get:15 http://security.ubuntu.com/ubuntu bionic-security/main amd64 Packages [2,152 kB]\n",
            "Get:16 http://archive.ubuntu.com/ubuntu bionic-backports InRelease [74.6 kB]\n",
            "Hit:17 http://ppa.launchpad.net/deadsnakes/ppa/ubuntu bionic InRelease\n",
            "Get:18 http://ppa.launchpad.net/graphics-drivers/ppa/ubuntu bionic InRelease [21.3 kB]\n",
            "Get:19 http://archive.ubuntu.com/ubuntu bionic-updates/main amd64 Packages [2,583 kB]\n",
            "Get:20 http://security.ubuntu.com/ubuntu bionic-security/restricted amd64 Packages [423 kB]\n",
            "Get:21 http://security.ubuntu.com/ubuntu bionic-security/universe amd64 Packages [1,412 kB]\n",
            "Get:22 http://ppa.launchpad.net/c2d4u.team/c2d4u4.0+/ubuntu bionic/main Sources [1,769 kB]\n",
            "Get:23 http://archive.ubuntu.com/ubuntu bionic-updates/restricted amd64 Packages [452 kB]\n",
            "Get:24 http://archive.ubuntu.com/ubuntu bionic-updates/universe amd64 Packages [2,183 kB]\n",
            "Get:25 http://ppa.launchpad.net/c2d4u.team/c2d4u4.0+/ubuntu bionic/main amd64 Packages [905 kB]\n",
            "Get:26 http://ppa.launchpad.net/graphics-drivers/ppa/ubuntu bionic/main amd64 Packages [41.5 kB]\n",
            "Fetched 13.1 MB in 7s (1,774 kB/s)\n",
            "Reading package lists... Done\n"
          ],
          "name": "stdout"
        }
      ]
    },
    {
      "cell_type": "code",
      "metadata": {
        "id": "jL8lcpGRZ6HX"
      },
      "source": [
        "from pyspark.sql import SparkSession\n",
        "spark = SparkSession.builder.appName(\"BigData-Challenge\").config(\"spark.driver.extraClassPath\",\"/content/postgresql-42.2.16.jar\").getOrCreate()"
      ],
      "execution_count": null,
      "outputs": []
    },
    {
      "cell_type": "code",
      "metadata": {
        "colab": {
          "base_uri": "https://localhost:8080/"
        },
        "id": "18ui_-W1aJQf",
        "outputId": "bd7802c9-3e6f-43ef-cbda-ff61ba4ac874"
      },
      "source": [
        "from pyspark import SparkFiles\n",
        "url = \"https://s3.amazonaws.com/amazon-reviews-pds/tsv/amazon_reviews_us_Pet_Products_v1_00.tsv.gz\"\n",
        "spark.sparkContext.addFile(url)\n",
        "df = spark.read.option(\"encoding\", \"UTF-8\").csv(SparkFiles.get(\"\"), sep=\"\\t\", header=True, inferSchema=True)\n",
        "df.show()"
      ],
      "execution_count": null,
      "outputs": [
        {
          "output_type": "stream",
          "text": [
            "+-----------+-----------+--------------+----------+--------------+--------------------+----------------+-----------+-------------+-----------+----+-----------------+--------------------+--------------------+-----------+\n",
            "|marketplace|customer_id|     review_id|product_id|product_parent|       product_title|product_category|star_rating|helpful_votes|total_votes|vine|verified_purchase|     review_headline|         review_body|review_date|\n",
            "+-----------+-----------+--------------+----------+--------------+--------------------+----------------+-----------+-------------+-----------+----+-----------------+--------------------+--------------------+-----------+\n",
            "|         US|   28794885| REAKC26P07MDN|B00Q0K9604|     510387886|(8-Pack) EZwhelp ...|    Pet Products|          5|            0|          0|   N|                Y|A great purchase ...|Best belly bands ...| 2015-08-31|\n",
            "|         US|   11488901|R3NU7OMZ4HQIEG|B00MBW5O9W|     912374672|Warren Eckstein's...|    Pet Products|          2|            0|          1|   N|                Y|My dogs love Hugs...|My dogs love Hugs...| 2015-08-31|\n",
            "|         US|   43214993|R14QJW3XF8QO1P|B0084OHUIO|     902215727|Tyson's True Chew...|    Pet Products|          5|            0|          0|   N|                Y|I have been purch...|I have been purch...| 2015-08-31|\n",
            "|         US|   12835065|R2HB7AX0394ZGY|B001GS71K2|     568880110|Soft Side Pet Cra...|    Pet Products|          5|            0|          0|   N|                Y|it is easy to ope...|It is extremely w...| 2015-08-31|\n",
            "|         US|   26334022| RGKMPDQGSAHR3|B004ABH1LG|     692846826|EliteField 3-Door...|    Pet Products|          5|            0|          0|   N|                Y|           Dog crate|Worked really wel...| 2015-08-31|\n",
            "|         US|   22283621|R1DJCVPQGCV66E|B00AX0LFM4|     590674141|Carlson 68-Inch W...|    Pet Products|          5|            0|          0|   N|                Y|          Five Stars|I love my gates! ...| 2015-08-31|\n",
            "|         US|   14469895|R3V52EAWLPBFQG|B00DQFZGZ0|     688538603|Dog Seat Cover Wi...|    Pet Products|          3|            0|          0|   N|                Y|Seat belt tugs on...|Didn't quite work...| 2015-08-31|\n",
            "|         US|   50896354|R3DKO8J1J28QBI|B00DIRF9US|     742358789|The Bird Catcher ...|    Pet Products|          2|            0|          0|   N|                Y|Great Pole, but S...|I had the origina...| 2015-08-31|\n",
            "|         US|   18440567| R764DBXGRNECG|B00JRCBFUG|     869798483|Cat Bed - Purrfec...|    Pet Products|          5|            1|          1|   N|                N|     My cat loves it|The pad is very s...| 2015-08-31|\n",
            "|         US|   50502362| RW1853GAT0Z9F|B000L3XYZ4|     501118658|PetSafe Drinkwell...|    Pet Products|          5|            0|          0|   N|                Y|          Five Stars|My cat drinks mor...| 2015-08-31|\n",
            "|         US|   33930128|R33GITXNUF1AD4|B00BOEXWFG|     454737777|Contech ZenDog Ca...|    Pet Products|          2|            0|          0|   N|                Y|Also had to pull ...|Much smaller than...| 2015-08-31|\n",
            "|         US|   43534290|R1H7AVM81TAYRV|B001HBBQKY|     420905252|Wellness Crunchy ...|    Pet Products|          1|            2|          2|   N|                Y|DO NOT PURCHASE -...|I used to love th...| 2015-08-31|\n",
            "|         US|   45555864|R2ZOYAQZNNZZWV|B007O1FHB0|     302588963|Rx Vitamins Essen...|    Pet Products|          5|            0|          0|   N|                Y|          Five Stars|Recommended by my...| 2015-08-31|\n",
            "|         US|   11147406|R2FN1H3CGW6J8H|B001P3NU30|     525778264|Virbac C.E.T. Enz...|    Pet Products|          1|            0|          0|   N|                Y|Received wrong pr...|Yes I  ordered fo...| 2015-08-31|\n",
            "|         US|    6495678| RJB41Q575XNG4|B00ZP6HS6S|     414117299|Kitty Shack - 2 i...|    Pet Products|          5|            0|          3|   N|                Y|          Five Stars|      It falls apart| 2015-08-31|\n",
            "|         US|    2019416|R28W8BM1587CPF|B00IP05CUA|     833937853|Wellness Kittles ...|    Pet Products|          5|            0|          0|   N|                Y|kitty is ravenous...|My cat really lov...| 2015-08-31|\n",
            "|         US|   40459386|R1II0M01NIG293|B001U8Y598|      85343577|OmniPet Anti-Ant ...|    Pet Products|          2|            0|          0|   N|                N|Maybe other speci...|This bowl is not ...| 2015-08-31|\n",
            "|         US|   23126800| RMB8N0DBRH34O|B011AY4JWO|     499241195|K9KONNECTION [New...|    Pet Products|          5|            1|          1|   N|                Y|This works, dog n...|I have a small do...| 2015-08-31|\n",
            "|         US|   30238476|R24WB6A6WVIPU6|B00DDSHE5A|     409532388|SUNSEED COMPANY 3...|    Pet Products|          5|            0|          0|   N|                Y|    Yummy for Bunny!|Bunny loves it! E...| 2015-08-31|\n",
            "|         US|   35113999| ROCJSH0P9YSRW|B00PJW5OR8|     259271919|CXB1983(TM)Cute P...|    Pet Products|          5|            0|          0|   N|                Y|excellent price, ...|Petfect,,quality ...| 2015-08-31|\n",
            "+-----------+-----------+--------------+----------+--------------+--------------------+----------------+-----------+-------------+-----------+----+-----------------+--------------------+--------------------+-----------+\n",
            "only showing top 20 rows\n",
            "\n"
          ],
          "name": "stdout"
        }
      ]
    },
    {
      "cell_type": "code",
      "metadata": {
        "colab": {
          "base_uri": "https://localhost:8080/"
        },
        "id": "GkWcWkwfafdZ",
        "outputId": "49801dd2-ba6f-459c-d57e-b2207137974c"
      },
      "source": [
        " # Create a new DataFrame or table to retrieve all the rows where the total_votes count is equal to or greater than 20\n",
        " dfvote = df.filter(df.total_votes >=20)\n",
        " dfvote.show(5)"
      ],
      "execution_count": null,
      "outputs": [
        {
          "output_type": "stream",
          "text": [
            "+-----------+-----------+--------------+----------+--------------+--------------------+----------------+-----------+-------------+-----------+----+-----------------+--------------------+--------------------+-----------+\n",
            "|marketplace|customer_id|     review_id|product_id|product_parent|       product_title|product_category|star_rating|helpful_votes|total_votes|vine|verified_purchase|     review_headline|         review_body|review_date|\n",
            "+-----------+-----------+--------------+----------+--------------+--------------------+----------------+-----------+-------------+-----------+----+-----------------+--------------------+--------------------+-----------+\n",
            "|         US|   51227803|R21KC552Y6HL8X|B00E2E1XBK|     180836080|Kennel Deck - 3 Pack|    Pet Products|          1|           27|         31|   N|                Y|The picture is of...|The product add p...| 2015-08-31|\n",
            "|         US|   52747799| RX9WC9FTIR1XR|B00DZITYGU|     598776873|Grey Shark Bed fo...|    Pet Products|          5|           25|         25|   N|                Y|Two seconds flat ...|Once I set it up,...| 2015-08-31|\n",
            "|         US|   23340430| RGDCOU1KBHMNG|B00N9SL8SS|     721942363|Pet Rat Mouse Lea...|    Pet Products|          3|           29|         31|   N|                Y|        OK for Price|Easy enough to pu...| 2015-08-31|\n",
            "|         US|   48234208| RVTYWID2TPMMY|B00EB4IV2A|     140722056|Northmate Catch I...|    Pet Products|          2|           35|         42|   N|                Y|        Intimidating|Love the concept....| 2015-08-31|\n",
            "|         US|    2321625|R2CMPZ5VESGRLY|B00OC7661E|     664108863|4 Pets Large Dog ...|    Pet Products|          4|           27|         28|   N|                Y|Xl fits my 51 pou...|A little big on h...| 2015-08-31|\n",
            "+-----------+-----------+--------------+----------+--------------+--------------------+----------------+-----------+-------------+-----------+----+-----------------+--------------------+--------------------+-----------+\n",
            "only showing top 5 rows\n",
            "\n"
          ],
          "name": "stdout"
        }
      ]
    },
    {
      "cell_type": "code",
      "metadata": {
        "colab": {
          "base_uri": "https://localhost:8080/"
        },
        "id": "fF9Qc1yTa4U9",
        "outputId": "2d26117d-9dad-4f57-8e32-9bb5ef89fe4d"
      },
      "source": [
        "# create a new DataFrame or table to retrieve all the rows where the number of helpful_votes divided by total_votes is equal to or greater than 50%\n",
        "dfvote50 = df.filter(df.total_votes >=0.5)\n",
        "dfvote50.show(5)"
      ],
      "execution_count": null,
      "outputs": [
        {
          "output_type": "stream",
          "text": [
            "+-----------+-----------+--------------+----------+--------------+--------------------+----------------+-----------+-------------+-----------+----+-----------------+--------------------+--------------------+-----------+\n",
            "|marketplace|customer_id|     review_id|product_id|product_parent|       product_title|product_category|star_rating|helpful_votes|total_votes|vine|verified_purchase|     review_headline|         review_body|review_date|\n",
            "+-----------+-----------+--------------+----------+--------------+--------------------+----------------+-----------+-------------+-----------+----+-----------------+--------------------+--------------------+-----------+\n",
            "|         US|   11488901|R3NU7OMZ4HQIEG|B00MBW5O9W|     912374672|Warren Eckstein's...|    Pet Products|          2|            0|          1|   N|                Y|My dogs love Hugs...|My dogs love Hugs...| 2015-08-31|\n",
            "|         US|   18440567| R764DBXGRNECG|B00JRCBFUG|     869798483|Cat Bed - Purrfec...|    Pet Products|          5|            1|          1|   N|                N|     My cat loves it|The pad is very s...| 2015-08-31|\n",
            "|         US|   43534290|R1H7AVM81TAYRV|B001HBBQKY|     420905252|Wellness Crunchy ...|    Pet Products|          1|            2|          2|   N|                Y|DO NOT PURCHASE -...|I used to love th...| 2015-08-31|\n",
            "|         US|    6495678| RJB41Q575XNG4|B00ZP6HS6S|     414117299|Kitty Shack - 2 i...|    Pet Products|          5|            0|          3|   N|                Y|          Five Stars|      It falls apart| 2015-08-31|\n",
            "|         US|   23126800| RMB8N0DBRH34O|B011AY4JWO|     499241195|K9KONNECTION [New...|    Pet Products|          5|            1|          1|   N|                Y|This works, dog n...|I have a small do...| 2015-08-31|\n",
            "+-----------+-----------+--------------+----------+--------------+--------------------+----------------+-----------+-------------+-----------+----+-----------------+--------------------+--------------------+-----------+\n",
            "only showing top 5 rows\n",
            "\n"
          ],
          "name": "stdout"
        }
      ]
    },
    {
      "cell_type": "code",
      "metadata": {
        "colab": {
          "base_uri": "https://localhost:8080/"
        },
        "id": "cAOIcV0ybScM",
        "outputId": "61d58d13-4023-4ba1-8aa4-fbcbaf099b5d"
      },
      "source": [
        "# create a new DataFrame or table that retrieves all the rows where a review was written as part of the Vine program (paid)\n",
        "df_paid = dfvote50.filter(dfvote50.vine == \"Y\")\n",
        "df_paid.show(5)"
      ],
      "execution_count": null,
      "outputs": [
        {
          "output_type": "stream",
          "text": [
            "+-----------+-----------+--------------+----------+--------------+--------------------+----------------+-----------+-------------+-----------+----+-----------------+--------------------+--------------------+-----------+\n",
            "|marketplace|customer_id|     review_id|product_id|product_parent|       product_title|product_category|star_rating|helpful_votes|total_votes|vine|verified_purchase|     review_headline|         review_body|review_date|\n",
            "+-----------+-----------+--------------+----------+--------------+--------------------+----------------+-----------+-------------+-----------+----+-----------------+--------------------+--------------------+-----------+\n",
            "|         US|   50037367| R37IHP001XZVR|B001WOOC9S|     646797852|Composure for Med...|    Pet Products|          5|            0|          1|   Y|                N|Puppy Loves These...|I have a four mon...| 2015-08-31|\n",
            "|         US|   49642495|R175KT8QHRRK2G|B00XKLCQNK|     458311255|Purina Beyond Nat...|    Pet Products|          4|            0|          1|   Y|                N|Great for dogs wi...|One of the things...| 2015-08-31|\n",
            "|         US|   48964504|R2FDITZFABSUN8|B00R4GLVJM|     436861964|Wellness Divine D...|    Pet Products|          3|            0|          1|   Y|                N|       Mixed Results|I  have two cats ...| 2015-08-31|\n",
            "|         US|   52185679| R9WD02GLN4A35|B00JGWN8O8|     378897034|Petcube Interacti...|    Pet Products|          5|            7|          8|   Y|                N|Lots of fun with ...|This is great fun...| 2015-08-31|\n",
            "|         US|   44838902|R10A8UNLH0KARF|B00WO6MEXO|     883969801|Prevue Pet Produc...|    Pet Products|          3|            1|          1|   Y|                N|The height for th...|Our cat is long a...| 2015-08-31|\n",
            "+-----------+-----------+--------------+----------+--------------+--------------------+----------------+-----------+-------------+-----------+----+-----------------+--------------------+--------------------+-----------+\n",
            "only showing top 5 rows\n",
            "\n"
          ],
          "name": "stdout"
        }
      ]
    },
    {
      "cell_type": "code",
      "metadata": {
        "colab": {
          "base_uri": "https://localhost:8080/"
        },
        "id": "PZyGFKjlbpoh",
        "outputId": "e7e747ec-3311-496e-d674-88a31c9c9c55"
      },
      "source": [
        "# create a new DataFrame or table that retrieves all the rows where a review was written as part of the Vine program (not paid)\n",
        "df_nopaid = dfvote50.filter(dfvote50.vine == \"N\")\n",
        "df_nopaid.show(5)"
      ],
      "execution_count": null,
      "outputs": [
        {
          "output_type": "stream",
          "text": [
            "+-----------+-----------+--------------+----------+--------------+--------------------+----------------+-----------+-------------+-----------+----+-----------------+--------------------+--------------------+-----------+\n",
            "|marketplace|customer_id|     review_id|product_id|product_parent|       product_title|product_category|star_rating|helpful_votes|total_votes|vine|verified_purchase|     review_headline|         review_body|review_date|\n",
            "+-----------+-----------+--------------+----------+--------------+--------------------+----------------+-----------+-------------+-----------+----+-----------------+--------------------+--------------------+-----------+\n",
            "|         US|   11488901|R3NU7OMZ4HQIEG|B00MBW5O9W|     912374672|Warren Eckstein's...|    Pet Products|          2|            0|          1|   N|                Y|My dogs love Hugs...|My dogs love Hugs...| 2015-08-31|\n",
            "|         US|   18440567| R764DBXGRNECG|B00JRCBFUG|     869798483|Cat Bed - Purrfec...|    Pet Products|          5|            1|          1|   N|                N|     My cat loves it|The pad is very s...| 2015-08-31|\n",
            "|         US|   43534290|R1H7AVM81TAYRV|B001HBBQKY|     420905252|Wellness Crunchy ...|    Pet Products|          1|            2|          2|   N|                Y|DO NOT PURCHASE -...|I used to love th...| 2015-08-31|\n",
            "|         US|    6495678| RJB41Q575XNG4|B00ZP6HS6S|     414117299|Kitty Shack - 2 i...|    Pet Products|          5|            0|          3|   N|                Y|          Five Stars|      It falls apart| 2015-08-31|\n",
            "|         US|   23126800| RMB8N0DBRH34O|B011AY4JWO|     499241195|K9KONNECTION [New...|    Pet Products|          5|            1|          1|   N|                Y|This works, dog n...|I have a small do...| 2015-08-31|\n",
            "+-----------+-----------+--------------+----------+--------------+--------------------+----------------+-----------+-------------+-----------+----+-----------------+--------------------+--------------------+-----------+\n",
            "only showing top 5 rows\n",
            "\n"
          ],
          "name": "stdout"
        }
      ]
    },
    {
      "cell_type": "code",
      "metadata": {
        "colab": {
          "base_uri": "https://localhost:8080/"
        },
        "id": "1vMFdZ2rzn1O",
        "outputId": "67c2da8e-fe36-4c08-8a63-2e23eb7743af"
      },
      "source": [
        "# Determine the total number of reviews\n",
        "total_reviews = df_paid.count() + df_nopaid.count()\n",
        "total_reviews"
      ],
      "execution_count": 74,
      "outputs": [
        {
          "output_type": "execute_result",
          "data": {
            "text/plain": [
              "979422"
            ]
          },
          "metadata": {
            "tags": []
          },
          "execution_count": 74
        }
      ]
    },
    {
      "cell_type": "code",
      "metadata": {
        "colab": {
          "base_uri": "https://localhost:8080/"
        },
        "id": "8LaIPoEfb4aW",
        "outputId": "ec5fbea4-0f6a-4429-ac1e-975b204344b0"
      },
      "source": [
        "# Determine the total number of reviews with 5 star rating\n",
        "five_star = dfvote50.filter(dfvote50[\"star_rating\"] == 5)\n",
        "five_star.show()"
      ],
      "execution_count": 92,
      "outputs": [
        {
          "output_type": "stream",
          "text": [
            "+-----------+-----------+--------------+----------+--------------+--------------------+----------------+-----------+-------------+-----------+----+-----------------+--------------------+--------------------+-----------+\n",
            "|marketplace|customer_id|     review_id|product_id|product_parent|       product_title|product_category|star_rating|helpful_votes|total_votes|vine|verified_purchase|     review_headline|         review_body|review_date|\n",
            "+-----------+-----------+--------------+----------+--------------+--------------------+----------------+-----------+-------------+-----------+----+-----------------+--------------------+--------------------+-----------+\n",
            "|         US|   18440567| R764DBXGRNECG|B00JRCBFUG|     869798483|Cat Bed - Purrfec...|    Pet Products|          5|            1|          1|   N|                N|     My cat loves it|The pad is very s...| 2015-08-31|\n",
            "|         US|    6495678| RJB41Q575XNG4|B00ZP6HS6S|     414117299|Kitty Shack - 2 i...|    Pet Products|          5|            0|          3|   N|                Y|          Five Stars|      It falls apart| 2015-08-31|\n",
            "|         US|   23126800| RMB8N0DBRH34O|B011AY4JWO|     499241195|K9KONNECTION [New...|    Pet Products|          5|            1|          1|   N|                Y|This works, dog n...|I have a small do...| 2015-08-31|\n",
            "|         US|     159063| RLR047V0C09SG|B002FK82JO|      86580232|Rubies Costume Ru...|    Pet Products|          5|            1|          1|   N|                Y|            Love it!|Love it!! I have ...| 2015-08-31|\n",
            "|         US|    1820095|R2P2G1XUTS2UI1|B0002565N4|     419360744|Penn Plax The Sup...|    Pet Products|          5|            8|          8|   N|                Y|Works perfect wit...|I've used this tw...| 2015-08-31|\n",
            "|         US|   10299380|R2E9I9L1DXK7U8|B00DJZ0SE6|     298598234|Wysong Geriatrx S...|    Pet Products|          5|           10|         10|   N|                Y|    Wysong Geriatrix|This is one of my...| 2015-08-31|\n",
            "|         US|     898307|R2EDA9TQWM5LOW|B008CA7W7E|     714818763|Tetra 29095 Cube ...|    Pet Products|          5|            1|          1|   N|                Y|          Five Stars|Really great for ...| 2015-08-31|\n",
            "|         US|   22852864| RBJ69AC0G5A5R|B00VPY57Y4|     209000357|ANTBLOCKER Ant Fr...|    Pet Products|          5|            1|          1|   N|                Y|Works, unless you...|Works, unless you...| 2015-08-31|\n",
            "|         US|   20666238|R3K2WKNT0S6CX3|B00XWCP7DS|     686696386|Share a Smile wit...|    Pet Products|          5|            1|          1|   N|                Y|            Awesome!|This ball is amaz...| 2015-08-31|\n",
            "|         US|   18771698|R32UT59G2WIWSY|B004LOIEDQ|       5950297|Coastal Pet Produ...|    Pet Products|          5|            5|          5|   N|                Y|BEST HARNESSES ON...|I bought two of t...| 2015-08-31|\n",
            "|         US|   52884970| RO2VCXY87UGV9|B001OCJXRO|     359994549|Forever Litter Tr...|    Pet Products|          5|            0|          1|   N|                Y|          It is Fine|There is way less...| 2015-08-31|\n",
            "|         US|   22704304|R1BGQFB99W61JM|B00L9NY2KG|       8526176|BLUE Wilderness H...|    Pet Products|          5|            3|          3|   N|                Y|The vet said this...|Our 10-year-old B...| 2015-08-31|\n",
            "|         US|   13497289| RT0UQXBO40MI5|B00KXE0SJ6|     626985166|Phoenix Worms (Sm...|    Pet Products|          5|            6|          6|   N|                Y|Great service and...|They arrived soon...| 2015-08-31|\n",
            "|         US|    1827584|R2R4LVTUFXINBO|B00LDCG18Y|     959229821|SoFun Sugar Glide...|    Pet Products|          5|            1|          1|   N|                Y|          Five Stars|This pouch is ama...| 2015-08-31|\n",
            "|         US|   49550600|R2LREMQJN3A8IZ|B0024EFYU6|     642003803|TetraPond Submers...|    Pet Products|          5|            1|          1|   N|                Y|          Five Stars|                 Yes| 2015-08-31|\n",
            "|         US|   27793040|R3GOPEOBBS8Z6B|B0006NEGQ0|     934963977|Cozy Cave Pet Bed...|    Pet Products|          5|            1|          1|   N|                Y| Dog Cave is Perfect|Great product.  O...| 2015-08-31|\n",
            "|         US|   35040611|R2ZZEFWTV9I0AU|B0027IVL6K|     815644595|TRIXIE Pet Produc...|    Pet Products|          5|            1|          1|   N|                Y| My kitten enjoys it|My kitten was imm...| 2015-08-31|\n",
            "|         US|    2104208|R25UKXOANZ9VIM|B000RI1C9I|     718831346|VetriScience Rena...|    Pet Products|          5|            4|          4|   N|                Y| WOW!!! Works Great!|Over the past yea...| 2015-08-31|\n",
            "|         US|   36841724| RP1VNUZ2SLB7M|B001PNK5L0|      56449500|LupinePet Basics ...|    Pet Products|          5|            1|          1|   N|                Y|Finally, the perf...|I'm incredibly pi...| 2015-08-31|\n",
            "|         US|   39284800| R29UUY9QI9F36|B0027IVL6K|     815644595|TRIXIE Pet Produc...|    Pet Products|          5|            1|          1|   N|                Y|This is a wonderf...|This is a wonderf...| 2015-08-31|\n",
            "+-----------+-----------+--------------+----------+--------------+--------------------+----------------+-----------+-------------+-----------+----+-----------------+--------------------+--------------------+-----------+\n",
            "only showing top 20 rows\n",
            "\n"
          ],
          "name": "stdout"
        }
      ]
    },
    {
      "cell_type": "code",
      "metadata": {
        "colab": {
          "base_uri": "https://localhost:8080/"
        },
        "id": "tRQh2kvzxmj8",
        "outputId": "065a2e97-f691-4bfb-b940-7634ea4c9335"
      },
      "source": [
        "# of paid reviews\n",
        "df_paid.count()"
      ],
      "execution_count": null,
      "outputs": [
        {
          "output_type": "execute_result",
          "data": {
            "text/plain": [
              "5026"
            ]
          },
          "metadata": {
            "tags": []
          },
          "execution_count": 11
        }
      ]
    },
    {
      "cell_type": "code",
      "metadata": {
        "colab": {
          "base_uri": "https://localhost:8080/"
        },
        "id": "VSIDXIiZzJPl",
        "outputId": "a007a3f8-b33d-490f-cc29-c15b99d9b075"
      },
      "source": [
        "# of not paid reviews\n",
        "df_nopaid.count()"
      ],
      "execution_count": null,
      "outputs": [
        {
          "output_type": "execute_result",
          "data": {
            "text/plain": [
              "974396"
            ]
          },
          "metadata": {
            "tags": []
          },
          "execution_count": 12
        }
      ]
    },
    {
      "cell_type": "code",
      "metadata": {
        "colab": {
          "base_uri": "https://localhost:8080/"
        },
        "id": "Qw7Il0C4xOtE",
        "outputId": "3cdd78f0-dff8-437d-9941-73cfb038d8c0"
      },
      "source": [
        "# Determine five_star.count\n",
        "five_star.count()"
      ],
      "execution_count": 93,
      "outputs": [
        {
          "output_type": "execute_result",
          "data": {
            "text/plain": [
              "529603"
            ]
          },
          "metadata": {
            "tags": []
          },
          "execution_count": 93
        }
      ]
    },
    {
      "cell_type": "code",
      "metadata": {
        "colab": {
          "base_uri": "https://localhost:8080/"
        },
        "id": "iRezpuLv6rZY",
        "outputId": "d02318b0-e06b-4559-8c46-6996a01cb0dc"
      },
      "source": [
        "# Determine total of paid five_star.count\n",
        "paid_5star_reviews = df_paid.filter(df_paid.star_rating == 5).count()\n",
        "paid_5star_reviews"
      ],
      "execution_count": 96,
      "outputs": [
        {
          "output_type": "execute_result",
          "data": {
            "text/plain": [
              "2005"
            ]
          },
          "metadata": {
            "tags": []
          },
          "execution_count": 96
        }
      ]
    },
    {
      "cell_type": "code",
      "metadata": {
        "colab": {
          "base_uri": "https://localhost:8080/"
        },
        "id": "zl4BTe-r7Uwj",
        "outputId": "79954264-223e-4220-a3d7-2d55bcd1d2aa"
      },
      "source": [
        "# Determine total of unpaid five_star.count\n",
        "nopaid_5star_reviews = df_nopaid.filter(df_nopaid.star_rating == 5).count()\n",
        "nopaid_5star_reviews"
      ],
      "execution_count": 97,
      "outputs": [
        {
          "output_type": "execute_result",
          "data": {
            "text/plain": [
              "527598"
            ]
          },
          "metadata": {
            "tags": []
          },
          "execution_count": 97
        }
      ]
    },
    {
      "cell_type": "code",
      "metadata": {
        "colab": {
          "base_uri": "https://localhost:8080/"
        },
        "id": "j8atXbxxYuic",
        "outputId": "25c7e19c-a7a4-4936-cf26-ad340251458b"
      },
      "source": [
        "# paid 5-star reviews percentage\n",
        "paid_5star_percent = (paid_5star_reviews / df_paid.count()) * 100\n",
        "paid_5star_percent\n"
      ],
      "execution_count": 98,
      "outputs": [
        {
          "output_type": "execute_result",
          "data": {
            "text/plain": [
              "39.892558694787105"
            ]
          },
          "metadata": {
            "tags": []
          },
          "execution_count": 98
        }
      ]
    },
    {
      "cell_type": "code",
      "metadata": {
        "colab": {
          "base_uri": "https://localhost:8080/"
        },
        "id": "qRXoG7opi3bp",
        "outputId": "1316e5f6-6b06-466e-ee47-5a74202c9060"
      },
      "source": [
        "# not paid 5-star reviews percentage\n",
        "nopaid_5star_percent = (nopaid_5star_reviews / df_nopaid.count()) * 100\n",
        "nopaid_5star_percent"
      ],
      "execution_count": 99,
      "outputs": [
        {
          "output_type": "execute_result",
          "data": {
            "text/plain": [
              "54.14615823546074"
            ]
          },
          "metadata": {
            "tags": []
          },
          "execution_count": 99
        }
      ]
    }
  ]
}